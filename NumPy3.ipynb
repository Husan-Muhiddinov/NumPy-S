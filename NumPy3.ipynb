{
 "cells": [
  {
   "cell_type": "code",
   "execution_count": 1,
   "id": "a8c213fb-306f-4af4-b84d-4f78893ab2ab",
   "metadata": {},
   "outputs": [],
   "source": [
    "import numpy as np"
   ]
  },
  {
   "cell_type": "code",
   "execution_count": 2,
   "id": "ddea342c-6cea-4f94-872d-dcaa7948e8a2",
   "metadata": {},
   "outputs": [
    {
     "name": "stdout",
     "output_type": "stream",
     "text": [
      "[16  0 10  8  3 14  5  9  5 17]\n",
      "\n",
      "[13  6 16 10  9 16  9  5  8 12]\n"
     ]
    }
   ],
   "source": [
    "a=np.random.randint(20, size=10)\n",
    "b=np.random.randint(20, size=10)\n",
    "print(a)\n",
    "print()\n",
    "print(b)"
   ]
  },
  {
   "cell_type": "code",
   "execution_count": 3,
   "id": "4d873b61-7f96-4c3f-a2d5-5ebe93d68dde",
   "metadata": {},
   "outputs": [
    {
     "data": {
      "text/plain": [
       "array([29,  6, 26, 18, 12, 30, 14, 14, 13, 29], dtype=int32)"
      ]
     },
     "execution_count": 3,
     "metadata": {},
     "output_type": "execute_result"
    }
   ],
   "source": [
    "c=a+b\n",
    "c"
   ]
  },
  {
   "cell_type": "code",
   "execution_count": 4,
   "id": "4e3080d9-1b87-4169-8502-3cebff6892f6",
   "metadata": {},
   "outputs": [
    {
     "data": {
      "text/plain": [
       "array([ 3, -6, -6, -2, -6, -2, -4,  4, -3,  5], dtype=int32)"
      ]
     },
     "execution_count": 4,
     "metadata": {},
     "output_type": "execute_result"
    }
   ],
   "source": [
    "c=a-b\n",
    "c"
   ]
  },
  {
   "cell_type": "code",
   "execution_count": 5,
   "id": "b3fa73dc-afef-4506-9e27-82c04d2e87db",
   "metadata": {},
   "outputs": [
    {
     "data": {
      "text/plain": [
       "array([1.23076923, 0.        , 0.625     , 0.8       , 0.33333333,\n",
       "       0.875     , 0.55555556, 1.8       , 0.625     , 1.41666667])"
      ]
     },
     "execution_count": 5,
     "metadata": {},
     "output_type": "execute_result"
    }
   ],
   "source": [
    "c=a/b\n",
    "c"
   ]
  },
  {
   "cell_type": "code",
   "execution_count": 6,
   "id": "749491c1-8eb8-4243-a259-0f63203e6a1b",
   "metadata": {},
   "outputs": [
    {
     "data": {
      "text/plain": [
       "array([208,   0, 160,  80,  27, 224,  45,  45,  40, 204], dtype=int32)"
      ]
     },
     "execution_count": 6,
     "metadata": {},
     "output_type": "execute_result"
    }
   ],
   "source": [
    "c=a*b\n",
    "c"
   ]
  },
  {
   "cell_type": "code",
   "execution_count": 9,
   "id": "ed023b30-35bf-48d2-81fc-ccfb03390b59",
   "metadata": {},
   "outputs": [
    {
     "name": "stdout",
     "output_type": "stream",
     "text": [
      "[ 1 18  2 16  9  9  4 17 19 14]\n",
      "\n",
      "[13  6 16 10  9 16  9  5  8 12]\n",
      "\n",
      "979\n"
     ]
    }
   ],
   "source": [
    "#  a va b ning skalyar ko'paytmasini topib beradi\n",
    "\n",
    "c=sum(a*b)\n",
    "\n",
    "print(a)\n",
    "print()\n",
    "print(b)\n",
    "print()\n",
    "print(c)"
   ]
  },
  {
   "cell_type": "code",
   "execution_count": 11,
   "id": "ad838418-6e0b-4eda-8896-02d6e2b84f16",
   "metadata": {},
   "outputs": [
    {
     "data": {
      "text/plain": [
       "np.int32(979)"
      ]
     },
     "execution_count": 11,
     "metadata": {},
     "output_type": "execute_result"
    }
   ],
   "source": [
    "# \"dot\" ham a va b ning skalyar ko'paytmasini topib beradi\n",
    "\n",
    "c=np.dot(a, b)\n",
    "c"
   ]
  },
  {
   "cell_type": "code",
   "execution_count": 12,
   "id": "90ea66fe-e459-4fc8-acda-53ba24f273d9",
   "metadata": {},
   "outputs": [
    {
     "data": {
      "text/plain": [
       "np.int32(979)"
      ]
     },
     "execution_count": 12,
     "metadata": {},
     "output_type": "execute_result"
    }
   ],
   "source": [
    "# \"inner\" ham a va b ning skalyar ko'paytmasini topib beradi\n",
    "\n",
    "c=np.inner(a, b)\n",
    "c"
   ]
  },
  {
   "cell_type": "code",
   "execution_count": 14,
   "id": "11fe0b48-9f3f-4715-b0b9-be2d75047884",
   "metadata": {},
   "outputs": [
    {
     "name": "stdout",
     "output_type": "stream",
     "text": [
      "[ 1 18  2 16  9  9  4 17 19 14]\n",
      "\n",
      "[13  6 16 10  9 16  9  5  8 12]\n",
      "\n",
      "[[ 13   6  16  10   9  16   9   5   8  12]\n",
      " [234 108 288 180 162 288 162  90 144 216]\n",
      " [ 26  12  32  20  18  32  18  10  16  24]\n",
      " [208  96 256 160 144 256 144  80 128 192]\n",
      " [117  54 144  90  81 144  81  45  72 108]\n",
      " [117  54 144  90  81 144  81  45  72 108]\n",
      " [ 52  24  64  40  36  64  36  20  32  48]\n",
      " [221 102 272 170 153 272 153  85 136 204]\n",
      " [247 114 304 190 171 304 171  95 152 228]\n",
      " [182  84 224 140 126 224 126  70 112 168]]\n"
     ]
    }
   ],
   "source": [
    "# outer --> tashqi ko'paytma\n",
    "\n",
    "c=np.outer(a, b)\n",
    "print(a)\n",
    "print()\n",
    "print(b)\n",
    "print()\n",
    "print(c)"
   ]
  },
  {
   "cell_type": "code",
   "execution_count": 17,
   "id": "daed94ad-70dc-4be7-a688-27e26c0c5425",
   "metadata": {},
   "outputs": [
    {
     "name": "stdout",
     "output_type": "stream",
     "text": [
      "[ 1 18  2 16  9  9  4 17 19 14]\n",
      "True\n"
     ]
    }
   ],
   "source": [
    "# \"all \" bu noldan fraqlilikka yoki hammasi True likka tkshiradi\n",
    "\n",
    "print(a)\n",
    "c=np.all(a)\n",
    "print(c)"
   ]
  },
  {
   "cell_type": "code",
   "execution_count": 7,
   "id": "60cf45a6-566b-4616-8578-ecb61ff82b7e",
   "metadata": {},
   "outputs": [
    {
     "name": "stdout",
     "output_type": "stream",
     "text": [
      "[11 13  5 10  3  0  5 19 17  6]\n"
     ]
    },
    {
     "data": {
      "text/plain": [
       "array([5.98741417e+04, 4.42413392e+05, 1.48413159e+02, 2.20264658e+04,\n",
       "       2.00855369e+01, 1.00000000e+00, 1.48413159e+02, 1.78482301e+08,\n",
       "       2.41549528e+07, 4.03428793e+02])"
      ]
     },
     "execution_count": 7,
     "metadata": {},
     "output_type": "execute_result"
    }
   ],
   "source": [
    "# exponentasini topish\n",
    "\n",
    "a=np.random.randint(20, size=10)\n",
    "print(a)\n",
    "c=np.exp(a)\n",
    "c"
   ]
  },
  {
   "cell_type": "code",
   "execution_count": 18,
   "id": "72f49a4b-1422-4ab6-aa34-f7f52447a46a",
   "metadata": {},
   "outputs": [
    {
     "name": "stdout",
     "output_type": "stream",
     "text": [
      "[ 8  9  9  3 11  7 19 11 15 19]\n"
     ]
    },
    {
     "data": {
      "text/plain": [
       "np.int64(111)"
      ]
     },
     "execution_count": 18,
     "metadata": {},
     "output_type": "execute_result"
    }
   ],
   "source": [
    "a=np.random.randint(20, size=10)\n",
    "print(a)\n",
    "c=np.sum(a)\n",
    "c"
   ]
  },
  {
   "cell_type": "code",
   "execution_count": null,
   "id": "ae7b511d-0e66-44d9-9023-b4ef54fa5df0",
   "metadata": {},
   "outputs": [],
   "source": []
  },
  {
   "cell_type": "code",
   "execution_count": null,
   "id": "85ba8e9c-7deb-40c6-a231-fafb5698be18",
   "metadata": {},
   "outputs": [],
   "source": []
  },
  {
   "cell_type": "code",
   "execution_count": 4,
   "id": "d49b61fe-1ded-47ce-a62a-eabbf99c23cc",
   "metadata": {},
   "outputs": [
    {
     "name": "stdout",
     "output_type": "stream",
     "text": [
      "[ True  True False False False False  True False False False]\n",
      "\n",
      "[False False False  True False  True False  True False  True]\n"
     ]
    }
   ],
   "source": [
    "a=np.random.randint(2, size=(10, ), dtype=bool)\n",
    "b=np.random.randint(2, size=(10, ), dtype=bool)\n",
    "print(a)\n",
    "print()\n",
    "print(b)"
   ]
  },
  {
   "cell_type": "code",
   "execution_count": 5,
   "id": "61903557-166c-4f9b-9a1d-133d779383f3",
   "metadata": {},
   "outputs": [
    {
     "data": {
      "text/plain": [
       "array([False, False, False, False, False, False, False, False, False,\n",
       "       False])"
      ]
     },
     "execution_count": 5,
     "metadata": {},
     "output_type": "execute_result"
    }
   ],
   "source": [
    "c=np.logical_and(a,b)\n",
    "c"
   ]
  },
  {
   "cell_type": "code",
   "execution_count": 6,
   "id": "0519efa2-9115-47c1-b835-1a557afa8336",
   "metadata": {},
   "outputs": [
    {
     "data": {
      "text/plain": [
       "array([ True,  True, False,  True, False,  True,  True,  True, False,\n",
       "        True])"
      ]
     },
     "execution_count": 6,
     "metadata": {},
     "output_type": "execute_result"
    }
   ],
   "source": [
    "c=np.logical_or(a,b)\n",
    "c"
   ]
  },
  {
   "cell_type": "code",
   "execution_count": 7,
   "id": "e2c67ea8-09b0-475a-abd0-87ccc43bf1b1",
   "metadata": {},
   "outputs": [
    {
     "data": {
      "text/plain": [
       "array([False, False,  True,  True,  True,  True, False,  True,  True,\n",
       "        True])"
      ]
     },
     "execution_count": 7,
     "metadata": {},
     "output_type": "execute_result"
    }
   ],
   "source": [
    "c=np.logical_not(a)\n",
    "c"
   ]
  },
  {
   "cell_type": "code",
   "execution_count": 10,
   "id": "0ef9bd73-0a00-4c27-b4b0-0af31ee77b30",
   "metadata": {},
   "outputs": [
    {
     "data": {
      "text/plain": [
       "True"
      ]
     },
     "execution_count": 10,
     "metadata": {},
     "output_type": "execute_result"
    }
   ],
   "source": [
    "c=a\n",
    "c is a"
   ]
  },
  {
   "cell_type": "code",
   "execution_count": 11,
   "id": "9635d897-ced7-4b20-89b2-ef1bdf53efd8",
   "metadata": {},
   "outputs": [
    {
     "name": "stdout",
     "output_type": "stream",
     "text": [
      "[13  9  9 19 13 12 10 17 18 18]\n",
      "\n",
      "[ 3 18 11 16  2  2  4 15 13 12]\n"
     ]
    }
   ],
   "source": [
    "a=np.random.randint(20, size=10)\n",
    "b=np.random.randint(20, size=10)\n",
    "print(a)\n",
    "print()\n",
    "print(b)"
   ]
  },
  {
   "cell_type": "code",
   "execution_count": 12,
   "id": "c41cc4a4-bcc4-45fa-bdc0-b0cd39a1dd75",
   "metadata": {},
   "outputs": [
    {
     "data": {
      "text/plain": [
       "True"
      ]
     },
     "execution_count": 12,
     "metadata": {},
     "output_type": "execute_result"
    }
   ],
   "source": [
    "17 in a"
   ]
  },
  {
   "cell_type": "code",
   "execution_count": 15,
   "id": "0ad9f730-12c4-4cd8-864c-8bc09b04480c",
   "metadata": {},
   "outputs": [
    {
     "name": "stdout",
     "output_type": "stream",
     "text": [
      "[13  9  9 19 13 12 10 17 18 18]\n"
     ]
    },
    {
     "ename": "TypeError",
     "evalue": "allclose() missing 1 required positional argument: 'b'",
     "output_type": "error",
     "traceback": [
      "\u001b[1;31m---------------------------------------------------------------------------\u001b[0m",
      "\u001b[1;31mTypeError\u001b[0m                                 Traceback (most recent call last)",
      "Cell \u001b[1;32mIn[15], line 4\u001b[0m\n\u001b[0;32m      1\u001b[0m \u001b[38;5;66;03m# allclose --> ikkita vektor bersak ularning hamma qiymatlari tengmi hammasini solishtirib beradi\u001b[39;00m\n\u001b[0;32m      3\u001b[0m \u001b[38;5;28mprint\u001b[39m(a)\n\u001b[1;32m----> 4\u001b[0m c \u001b[38;5;241m=\u001b[39m \u001b[43mnp\u001b[49m\u001b[38;5;241;43m.\u001b[39;49m\u001b[43mallclose\u001b[49m\u001b[43m(\u001b[49m\u001b[43ma\u001b[49m\u001b[43m)\u001b[49m\n\u001b[0;32m      5\u001b[0m c\n",
      "\u001b[1;31mTypeError\u001b[0m: allclose() missing 1 required positional argument: 'b'"
     ]
    }
   ],
   "source": [
    "# allclose --> ikkita vektor bersak ularning hamma qiymatlari tengmi hammasini solishtirib beradi\n",
    "\n",
    "print(a)\n",
    "c = np.allclose(a)\n",
    "c"
   ]
  },
  {
   "cell_type": "code",
   "execution_count": null,
   "id": "a4676157-d577-47c7-b218-50f59b23b5d7",
   "metadata": {},
   "outputs": [],
   "source": []
  },
  {
   "cell_type": "markdown",
   "id": "40b9d973-5f82-4a3e-9725-e5f38a701efb",
   "metadata": {},
   "source": [
    "MATRITSALAR USTIDA AMALLAR"
   ]
  },
  {
   "cell_type": "code",
   "execution_count": 16,
   "id": "a6820ba4-6e3a-46eb-b47e-7110f605714d",
   "metadata": {},
   "outputs": [
    {
     "name": "stdout",
     "output_type": "stream",
     "text": [
      "[[18 15 12]\n",
      " [16  0  5]\n",
      " [ 6 11  7]\n",
      " [ 8  3 12]]\n",
      "\n",
      "[[ 8 14 15]\n",
      " [ 7 14  9]\n",
      " [ 5 14  8]\n",
      " [15  5  9]]\n"
     ]
    }
   ],
   "source": [
    "A = np.random.randint(20, size=(4,3))\n",
    "B = np.random.randint(20, size=(4,3))\n",
    "print(A)\n",
    "print()\n",
    "print(B)"
   ]
  },
  {
   "cell_type": "code",
   "execution_count": 17,
   "id": "e4b73027-3645-45bc-a98d-f7b66086b041",
   "metadata": {},
   "outputs": [
    {
     "data": {
      "text/plain": [
       "array([[144, 210, 180],\n",
       "       [112,   0,  45],\n",
       "       [ 30, 154,  56],\n",
       "       [120,  15, 108]], dtype=int32)"
      ]
     },
     "execution_count": 17,
     "metadata": {},
     "output_type": "execute_result"
    }
   ],
   "source": [
    "c=A*B\n",
    "c"
   ]
  },
  {
   "cell_type": "code",
   "execution_count": 18,
   "id": "5300f054-ac89-42c0-a747-ea2c26be6585",
   "metadata": {},
   "outputs": [
    {
     "name": "stdout",
     "output_type": "stream",
     "text": [
      "[[10 10 10]\n",
      " [ 9 12 16]\n",
      " [14  6 11]\n",
      " [ 6  6 12]\n",
      " [11 19  7]]\n",
      "\n",
      "[[17 15  6 10]\n",
      " [ 8 17 15  1]\n",
      " [ 7  7 14  3]]\n"
     ]
    }
   ],
   "source": [
    "A = np.random.randint(20, size=(5,3))\n",
    "B = np.random.randint(20, size=(3,4))\n",
    "print(A)\n",
    "print()\n",
    "print(B)"
   ]
  },
  {
   "cell_type": "code",
   "execution_count": 20,
   "id": "f89a873f-b221-4732-83ed-05704bc9cb44",
   "metadata": {},
   "outputs": [
    {
     "name": "stdout",
     "output_type": "stream",
     "text": [
      "[[320 390 350 140]\n",
      " [361 451 458 150]\n",
      " [363 389 328 179]\n",
      " [234 276 294 102]\n",
      " [388 537 449 150]]\n"
     ]
    }
   ],
   "source": [
    "# Matritsani matritsaga ko'paytirish\n",
    "\n",
    "c=np.matmul(A, B)\n",
    "print(c)"
   ]
  },
  {
   "cell_type": "code",
   "execution_count": 21,
   "id": "d6ece6cb-7c61-47cc-bff8-fea5c7e82f61",
   "metadata": {},
   "outputs": [
    {
     "name": "stdout",
     "output_type": "stream",
     "text": [
      "[[ 0  7  3]\n",
      " [11 13  4]\n",
      " [ 5  7  1]\n",
      " [ 7 11 19]\n",
      " [ 3 11  3]]\n",
      "\n",
      "[[ 9 15  2  9]\n",
      " [ 5  4  0 14]\n",
      " [ 5 10  6 17]]\n"
     ]
    }
   ],
   "source": [
    "A = np.random.randint(20, size=(5,3))\n",
    "B = np.random.randint(20, size=(3,4))\n",
    "print(A)\n",
    "print()\n",
    "print(B)"
   ]
  },
  {
   "cell_type": "code",
   "execution_count": 22,
   "id": "2815f412-f0b8-449e-84f0-bcaab2a44a9e",
   "metadata": {},
   "outputs": [
    {
     "data": {
      "text/plain": [
       "np.int64(105)"
      ]
     },
     "execution_count": 22,
     "metadata": {},
     "output_type": "execute_result"
    }
   ],
   "source": [
    "# A matritsaning yi'g'indisi\n",
    "\n",
    "np.sum(A)"
   ]
  },
  {
   "cell_type": "code",
   "execution_count": 23,
   "id": "f2cbe02a-8575-4a08-8359-94e977b62018",
   "metadata": {},
   "outputs": [
    {
     "data": {
      "text/plain": [
       "array([10, 28, 13, 37, 17])"
      ]
     },
     "execution_count": 23,
     "metadata": {},
     "output_type": "execute_result"
    }
   ],
   "source": [
    "# A matritsaning har bir qatorining yi'g'indisi\n",
    "\n",
    "np.sum(A, axis=1)"
   ]
  },
  {
   "cell_type": "code",
   "execution_count": 24,
   "id": "5c07a803-111e-4f45-be19-d46c29faf495",
   "metadata": {},
   "outputs": [
    {
     "data": {
      "text/plain": [
       "array([26, 49, 30])"
      ]
     },
     "execution_count": 24,
     "metadata": {},
     "output_type": "execute_result"
    }
   ],
   "source": [
    "# A matritsaning har bir ustunining yi'g'indisi\n",
    "\n",
    "np.sum(A, axis=0)"
   ]
  },
  {
   "cell_type": "code",
   "execution_count": 25,
   "id": "b7e414ce-6904-4df6-b621-b18c384a94a5",
   "metadata": {},
   "outputs": [
    {
     "data": {
      "text/plain": [
       "np.int32(19)"
      ]
     },
     "execution_count": 25,
     "metadata": {},
     "output_type": "execute_result"
    }
   ],
   "source": [
    "np.max(A)"
   ]
  },
  {
   "cell_type": "code",
   "execution_count": 26,
   "id": "2676a52e-0d08-40ee-9309-e8a70a12412f",
   "metadata": {},
   "outputs": [
    {
     "data": {
      "text/plain": [
       "array([ 7, 13,  7, 19, 11], dtype=int32)"
      ]
     },
     "execution_count": 26,
     "metadata": {},
     "output_type": "execute_result"
    }
   ],
   "source": [
    "# Har bir qator bo'yicha maksimallar\n",
    "\n",
    "np.max(A, axis=1)"
   ]
  },
  {
   "cell_type": "code",
   "execution_count": 27,
   "id": "00d4614f-5dbf-4030-801b-9d501ee94bd8",
   "metadata": {},
   "outputs": [
    {
     "data": {
      "text/plain": [
       "array([11, 13, 19], dtype=int32)"
      ]
     },
     "execution_count": 27,
     "metadata": {},
     "output_type": "execute_result"
    }
   ],
   "source": [
    "# Har bir qator bo'yicha minimumllar\n",
    "\n",
    "np.max(A, axis=0)"
   ]
  },
  {
   "cell_type": "code",
   "execution_count": 28,
   "id": "226aced9-f0d7-4992-9540-4fd617b0612b",
   "metadata": {},
   "outputs": [
    {
     "data": {
      "text/plain": [
       "np.float64(7.0)"
      ]
     },
     "execution_count": 28,
     "metadata": {},
     "output_type": "execute_result"
    }
   ],
   "source": [
    "# Matritsaning o'rta arfmetigini topish. Hamma elementlarini qo'shib qo'shiluvchilaring soniga bo'ladi\n",
    "\n",
    "np.mean(A)"
   ]
  },
  {
   "cell_type": "code",
   "execution_count": 3,
   "id": "ea752e60-8d39-40a8-a002-3784e7316a7e",
   "metadata": {},
   "outputs": [
    {
     "data": {
      "text/plain": [
       "array([[[ 4,  5,  3,  0],\n",
       "        [17, 13,  7,  6],\n",
       "        [ 8,  0,  3,  9]],\n",
       "\n",
       "       [[ 7, 10,  5,  7],\n",
       "        [17,  2, 18, 10],\n",
       "        [17, 12, 10, 10]],\n",
       "\n",
       "       [[ 7, 12,  9,  0],\n",
       "        [13, 19, 13, 11],\n",
       "        [ 4, 19, 18,  3]],\n",
       "\n",
       "       [[15, 16,  6,  0],\n",
       "        [15,  4, 11,  5],\n",
       "        [ 7, 15,  5,  5]],\n",
       "\n",
       "       [[ 2,  4,  2, 11],\n",
       "        [ 7, 11, 16,  2],\n",
       "        [ 3, 17,  1,  7]]], dtype=int32)"
      ]
     },
     "execution_count": 3,
     "metadata": {},
     "output_type": "execute_result"
    }
   ],
   "source": [
    "A = np.random.randint(20, size=(5,3,4))\n",
    "A"
   ]
  },
  {
   "cell_type": "code",
   "execution_count": 5,
   "id": "9e10fb48-2d03-4581-8ac8-2e9a99cbac0d",
   "metadata": {},
   "outputs": [
    {
     "data": {
      "text/plain": [
       "array([[29, 18, 13, 15],\n",
       "       [41, 24, 33, 27],\n",
       "       [24, 50, 40, 14],\n",
       "       [37, 35, 22, 10],\n",
       "       [12, 32, 19, 20]])"
      ]
     },
     "execution_count": 5,
     "metadata": {},
     "output_type": "execute_result"
    }
   ],
   "source": [
    "np.sum(A, axis=1)"
   ]
  },
  {
   "cell_type": "code",
   "execution_count": 6,
   "id": "6f9b2e2b-c00e-4204-aa50-5023a9386b8f",
   "metadata": {},
   "outputs": [
    {
     "data": {
      "text/plain": [
       "np.int64(515)"
      ]
     },
     "execution_count": 6,
     "metadata": {},
     "output_type": "execute_result"
    }
   ],
   "source": [
    "np.sum(A)"
   ]
  },
  {
   "cell_type": "code",
   "execution_count": 7,
   "id": "cbe9df0f-45a2-4241-b849-b8ce1e9aaa55",
   "metadata": {},
   "outputs": [
    {
     "data": {
      "text/plain": [
       "array([[12, 43, 20],\n",
       "       [29, 47, 49],\n",
       "       [28, 56, 44],\n",
       "       [37, 35, 32],\n",
       "       [19, 36, 28]])"
      ]
     },
     "execution_count": 7,
     "metadata": {},
     "output_type": "execute_result"
    }
   ],
   "source": [
    "np.sum(A, axis=2)"
   ]
  },
  {
   "cell_type": "code",
   "execution_count": 8,
   "id": "3a4e6ca3-4026-4d53-9c39-91871370151f",
   "metadata": {},
   "outputs": [
    {
     "data": {
      "text/plain": [
       "np.int64(515)"
      ]
     },
     "execution_count": 8,
     "metadata": {},
     "output_type": "execute_result"
    }
   ],
   "source": [
    "np.sum(A, axis=(0,1,2))"
   ]
  },
  {
   "cell_type": "code",
   "execution_count": 9,
   "id": "aab72667-0239-4552-b37d-6c9af05171cc",
   "metadata": {},
   "outputs": [
    {
     "data": {
      "text/plain": [
       "array([143, 159, 127,  86])"
      ]
     },
     "execution_count": 9,
     "metadata": {},
     "output_type": "execute_result"
    }
   ],
   "source": [
    "np.sum(A, axis=(0,1))"
   ]
  },
  {
   "cell_type": "code",
   "execution_count": 17,
   "id": "e617f267-515c-4b3e-9a2a-7454c70de43a",
   "metadata": {},
   "outputs": [
    {
     "data": {
      "text/plain": [
       "array([[ 5, 12,  7],\n",
       "       [ 7, 18, 13],\n",
       "       [ 4, 11, 13],\n",
       "       [ 9,  1,  6],\n",
       "       [ 9,  3,  6]], dtype=int32)"
      ]
     },
     "execution_count": 17,
     "metadata": {},
     "output_type": "execute_result"
    }
   ],
   "source": [
    "A = np.random.randint(20, size=(5,3))\n",
    "A"
   ]
  },
  {
   "cell_type": "code",
   "execution_count": 13,
   "id": "a7ff1507-c472-41e7-aa95-9f1907064836",
   "metadata": {},
   "outputs": [
    {
     "data": {
      "text/plain": [
       "array([[ 2, 19, 15,  1,  6],\n",
       "       [ 4, 17, 17,  1,  7],\n",
       "       [17, 10, 17, 12, 19]], dtype=int32)"
      ]
     },
     "execution_count": 13,
     "metadata": {},
     "output_type": "execute_result"
    }
   ],
   "source": [
    "# matritsani tronspose qilish (90 gradusga burish)\n",
    "\n",
    "A.T"
   ]
  },
  {
   "cell_type": "code",
   "execution_count": 14,
   "id": "9eebfe59-259a-443b-90fa-e1e21cc24735",
   "metadata": {},
   "outputs": [
    {
     "name": "stdout",
     "output_type": "stream",
     "text": [
      "[ 2  4 17 19 17 10 15 17 17  1  1 12  6  7 19]\n"
     ]
    }
   ],
   "source": [
    "# matritsani oddiy vektor  ko'rinishiga o'tkazib beradi\n",
    "\n",
    "c=A.ravel()\n",
    "print(c)"
   ]
  },
  {
   "cell_type": "code",
   "execution_count": 20,
   "id": "7aa3076d-69fa-4237-a251-ef9aedf9fcae",
   "metadata": {},
   "outputs": [],
   "source": [
    "np.save('A.npy', A)\n",
    "np.savetxt('A.txt', A, fmt=\"%d\")"
   ]
  },
  {
   "cell_type": "code",
   "execution_count": 19,
   "id": "d9df402b-ca34-4601-b16e-9b67b4b88cd8",
   "metadata": {},
   "outputs": [],
   "source": [
    "# xotiraga yuklab beradi\n",
    "\n",
    "A=np.load('A.npy')"
   ]
  },
  {
   "cell_type": "code",
   "execution_count": 21,
   "id": "1ea058b4-e077-4e15-bf3d-874fb070cfba",
   "metadata": {},
   "outputs": [],
   "source": [
    "np.savetxt('AB.txt', A, fmt=\"%d\", delimiter=',')"
   ]
  },
  {
   "cell_type": "code",
   "execution_count": null,
   "id": "1cbb6455-b755-456d-8fe0-3f8723882f41",
   "metadata": {},
   "outputs": [],
   "source": []
  },
  {
   "cell_type": "code",
   "execution_count": null,
   "id": "62c961c4-a76c-4639-9848-25301dd925f7",
   "metadata": {},
   "outputs": [],
   "source": []
  },
  {
   "cell_type": "markdown",
   "id": "52bd2b73-dddb-45aa-bd71-b2f7c43443da",
   "metadata": {},
   "source": [
    "1. VEKTOR va MATRITSA O'RTASIDAGI amallar\n",
    "2. SOFTMAX operation"
   ]
  },
  {
   "cell_type": "code",
   "execution_count": 22,
   "id": "7c6777e9-66b6-4ddf-9977-4efd038879b0",
   "metadata": {},
   "outputs": [],
   "source": [
    "import numpy as np"
   ]
  },
  {
   "cell_type": "code",
   "execution_count": 27,
   "id": "94649c3c-6e83-400a-9e14-9c02e6921f96",
   "metadata": {},
   "outputs": [
    {
     "data": {
      "text/plain": [
       "array([[ 5, 12,  7],\n",
       "       [ 7, 18, 13],\n",
       "       [ 4, 11, 13],\n",
       "       [ 9,  1,  6],\n",
       "       [ 9,  3,  6]], dtype=int32)"
      ]
     },
     "execution_count": 27,
     "metadata": {},
     "output_type": "execute_result"
    }
   ],
   "source": [
    "A=np.load('A.npy')\n",
    "A\n"
   ]
  },
  {
   "cell_type": "code",
   "execution_count": 31,
   "id": "66c31a08-3647-4f3c-acd0-c2806918c069",
   "metadata": {},
   "outputs": [],
   "source": [
    "# tepadagi matritsaga ustunlar bo'yicha shu vektorni qo'shish\n",
    "\n",
    "a=np.array([0,1,2])\n"
   ]
  },
  {
   "cell_type": "code",
   "execution_count": 32,
   "id": "a04ec22c-a01a-4c1c-82b0-911a84fdb12a",
   "metadata": {},
   "outputs": [
    {
     "data": {
      "text/plain": [
       "array([[ 5, 13,  9],\n",
       "       [ 7, 19, 15],\n",
       "       [ 4, 12, 15],\n",
       "       [ 9,  2,  8],\n",
       "       [ 9,  4,  8]])"
      ]
     },
     "execution_count": 32,
     "metadata": {},
     "output_type": "execute_result"
    }
   ],
   "source": [
    "B=A+a\n",
    "B"
   ]
  },
  {
   "cell_type": "code",
   "execution_count": 34,
   "id": "00c0ef29-0c3c-4040-93a6-4972b9ee348c",
   "metadata": {},
   "outputs": [
    {
     "data": {
      "text/plain": [
       "array([[0],\n",
       "       [1],\n",
       "       [2],\n",
       "       [3],\n",
       "       [4]])"
      ]
     },
     "execution_count": 34,
     "metadata": {},
     "output_type": "execute_result"
    }
   ],
   "source": [
    "b=np.array([0,1,2,3,4]).reshape(5,1)\n",
    "b"
   ]
  },
  {
   "cell_type": "code",
   "execution_count": 35,
   "id": "5ea82e2b-c163-4973-919b-8c70930144fd",
   "metadata": {},
   "outputs": [
    {
     "data": {
      "text/plain": [
       "array([[ 5, 12,  7],\n",
       "       [ 8, 19, 14],\n",
       "       [ 6, 13, 15],\n",
       "       [12,  4,  9],\n",
       "       [13,  7, 10]])"
      ]
     },
     "execution_count": 35,
     "metadata": {},
     "output_type": "execute_result"
    }
   ],
   "source": [
    "C=A+b\n",
    "C"
   ]
  },
  {
   "cell_type": "markdown",
   "id": "76fa1536-2d58-4794-a822-78cdae01cbaa",
   "metadata": {},
   "source": [
    "SOFTMAX"
   ]
  },
  {
   "cell_type": "code",
   "execution_count": 45,
   "id": "c5e46e1f-beeb-44e4-978e-8e2cd0a0b3c9",
   "metadata": {},
   "outputs": [
    {
     "name": "stdout",
     "output_type": "stream",
     "text": [
      "[[0.22850876 0.16076728 0.18163906 0.2514944  0.17759049]\n",
      " [0.14510721 0.19856791 0.15830245 0.35970194 0.13832048]\n",
      " [0.1603385  0.18192827 0.17673094 0.22924724 0.25175505]\n",
      " [0.21292004 0.14005884 0.26919367 0.23182179 0.14600567]\n",
      " [0.15602401 0.17435787 0.21020689 0.21286901 0.24654221]\n",
      " [0.21529426 0.1480915  0.15389228 0.32507366 0.15764831]\n",
      " [0.16532712 0.22241691 0.12357029 0.19936285 0.28932283]\n",
      " [0.13747693 0.21578247 0.20303999 0.17480704 0.26889357]\n",
      " [0.16911162 0.25726847 0.1564982  0.2128431  0.2042786 ]\n",
      " [0.25825754 0.25651701 0.12805974 0.19114777 0.16601795]\n",
      " [0.24160317 0.2828978  0.17470349 0.13408008 0.16671546]\n",
      " [0.31627996 0.12312619 0.15828216 0.18500448 0.21730721]\n",
      " [0.34170682 0.15019685 0.14411541 0.14324348 0.22073744]\n",
      " [0.17094375 0.19776739 0.17725354 0.20568852 0.24834681]\n",
      " [0.22191423 0.14265596 0.16315207 0.20431092 0.26796681]\n",
      " [0.14981439 0.23414453 0.23642526 0.22469652 0.15491929]\n",
      " [0.11409158 0.2564218  0.14284681 0.22377962 0.2628602 ]\n",
      " [0.18348397 0.1665414  0.15950425 0.18293097 0.30753941]\n",
      " [0.13535308 0.26044852 0.1358681  0.23147886 0.23685145]\n",
      " [0.12955113 0.29438786 0.18191975 0.19728129 0.19685997]\n",
      " [0.20534435 0.21600576 0.20024505 0.1776882  0.20071664]\n",
      " [0.20458977 0.19026117 0.27083314 0.14434423 0.1899717 ]\n",
      " [0.19138929 0.23223694 0.24344018 0.12963077 0.20330282]\n",
      " [0.26079431 0.21237497 0.16693692 0.13736254 0.22253125]\n",
      " [0.18273247 0.23139105 0.14583004 0.25211175 0.18793469]\n",
      " [0.123449   0.23475392 0.20389928 0.15475471 0.2831431 ]\n",
      " [0.15515091 0.13483707 0.31097804 0.16868477 0.23034921]\n",
      " [0.26288722 0.13034506 0.22883621 0.17636474 0.20156677]\n",
      " [0.22980812 0.13854402 0.25787595 0.24745858 0.12631332]\n",
      " [0.2544463  0.17798102 0.1325021  0.13638426 0.29868631]\n",
      " [0.19539903 0.11952341 0.27996673 0.16373244 0.24137838]\n",
      " [0.21024109 0.10972368 0.26343169 0.21105493 0.20554862]\n",
      " [0.20289548 0.21491032 0.24545398 0.17498792 0.16175231]\n",
      " [0.20732367 0.1877726  0.24383728 0.17088656 0.19017989]\n",
      " [0.26273198 0.13473549 0.16431425 0.19444894 0.24376934]\n",
      " [0.11489165 0.24360019 0.23769132 0.13000033 0.27381651]\n",
      " [0.13092848 0.23842268 0.25638612 0.20704041 0.16722231]\n",
      " [0.15769456 0.1456999  0.23147353 0.23309498 0.23203703]\n",
      " [0.1511019  0.14740799 0.28179191 0.1525287  0.2671695 ]\n",
      " [0.24023742 0.21886777 0.16279905 0.20572919 0.17236657]\n",
      " [0.24396815 0.13763646 0.21483633 0.25589476 0.1476643 ]\n",
      " [0.16633485 0.13816803 0.20551877 0.1998626  0.29011576]\n",
      " [0.24026407 0.20326118 0.12523087 0.20057714 0.23066675]\n",
      " [0.12935278 0.17614823 0.27497059 0.14685304 0.27267537]\n",
      " [0.10921109 0.20059587 0.28046785 0.26776491 0.14196027]\n",
      " [0.13196736 0.13561016 0.21582344 0.25475145 0.26184758]\n",
      " [0.15844885 0.23231817 0.23235361 0.21730264 0.15957673]\n",
      " [0.14965484 0.21088853 0.15884822 0.22683672 0.25377169]\n",
      " [0.23949281 0.25984876 0.11601977 0.17306357 0.21157508]\n",
      " [0.158765   0.21801615 0.23445595 0.16754559 0.2212173 ]\n",
      " [0.12075482 0.22587087 0.20003173 0.23308422 0.22025837]\n",
      " [0.21675496 0.16335457 0.1755116  0.31240218 0.13197669]\n",
      " [0.25590738 0.18736322 0.1936349  0.17345763 0.18963688]\n",
      " [0.19165839 0.13650065 0.13549646 0.28546302 0.25088148]\n",
      " [0.18729249 0.21497089 0.32435307 0.1424154  0.13096815]\n",
      " [0.12110947 0.16805355 0.16246179 0.25539875 0.29297645]\n",
      " [0.2566665  0.15204186 0.28161688 0.1972618  0.11241295]\n",
      " [0.16304417 0.13559017 0.18174165 0.1645631  0.3550609 ]\n",
      " [0.23365002 0.1688327  0.20252099 0.27681744 0.11817884]\n",
      " [0.1935411  0.17457944 0.19632898 0.21191762 0.22363286]\n",
      " [0.20808829 0.20244364 0.12466408 0.22711774 0.23768625]\n",
      " [0.14399139 0.15120657 0.18782848 0.15345359 0.36351997]\n",
      " [0.15701707 0.22077733 0.25178708 0.19215101 0.17826751]\n",
      " [0.12939491 0.20836868 0.24999021 0.14766676 0.26457944]\n",
      " [0.30483813 0.20627673 0.18333634 0.11738172 0.18816708]\n",
      " [0.21792481 0.30042936 0.16237956 0.14197612 0.17729016]\n",
      " [0.16734458 0.15071371 0.23562278 0.19052454 0.25579439]\n",
      " [0.25165415 0.21600243 0.20773008 0.13758803 0.18702531]\n",
      " [0.20109854 0.1812562  0.24094014 0.11684911 0.25985602]\n",
      " [0.27731324 0.17946068 0.16864281 0.21592191 0.15866136]\n",
      " [0.20985572 0.25983801 0.1850553  0.1793895  0.16586147]\n",
      " [0.24122324 0.23750632 0.18365943 0.1823808  0.15523021]\n",
      " [0.1265356  0.15710563 0.22492061 0.29456038 0.19687777]\n",
      " [0.1863227  0.13450221 0.2527579  0.14142501 0.28499218]\n",
      " [0.19018236 0.26118481 0.16154155 0.1383706  0.24872068]\n",
      " [0.19775507 0.17443242 0.28329583 0.17782528 0.1666914 ]\n",
      " [0.21830703 0.13825919 0.19749819 0.1378847  0.30805088]\n",
      " [0.13763478 0.19117217 0.23685279 0.26624895 0.16809131]\n",
      " [0.20025756 0.12125812 0.28210985 0.17346882 0.22290565]\n",
      " [0.27015106 0.15488686 0.1992489  0.18908138 0.1866318 ]\n",
      " [0.20332896 0.13404617 0.15205897 0.24678699 0.26377892]\n",
      " [0.13723314 0.19417095 0.24272956 0.21884078 0.20702556]\n",
      " [0.20126602 0.17253306 0.1692071  0.28194419 0.17504964]\n",
      " [0.22007923 0.13276063 0.22573908 0.28338324 0.13803782]\n",
      " [0.15043615 0.27318376 0.20423286 0.19965262 0.17249461]\n",
      " [0.22694664 0.15642596 0.29410952 0.12479584 0.19772205]\n",
      " [0.19760542 0.22296202 0.19681096 0.17874203 0.20387957]\n",
      " [0.20214188 0.24345938 0.11993509 0.29684384 0.13761981]\n",
      " [0.12976925 0.23187549 0.16426326 0.19620206 0.27788994]\n",
      " [0.26743531 0.18373602 0.15065338 0.27809193 0.12008336]\n",
      " [0.20126344 0.18244683 0.13609875 0.22712338 0.2530676 ]\n",
      " [0.17574605 0.20356382 0.15118851 0.19479549 0.27470614]\n",
      " [0.24855404 0.14463841 0.17575054 0.26346272 0.1675943 ]\n",
      " [0.16714476 0.19535394 0.2032689  0.26185363 0.17237877]\n",
      " [0.22350809 0.25146717 0.18189359 0.17079557 0.17233558]\n",
      " [0.1542856  0.26131058 0.17558865 0.1685809  0.24023426]\n",
      " [0.19134064 0.15331645 0.15722104 0.18287108 0.31525079]\n",
      " [0.17348709 0.23160387 0.25490496 0.2315274  0.10847667]\n",
      " [0.19727946 0.13242657 0.17182405 0.23095143 0.26751849]\n",
      " [0.21708308 0.17109641 0.29947387 0.17628148 0.13606516]]\n"
     ]
    }
   ],
   "source": [
    "X=np.random.rand(100,5)\n",
    "exp_X = np.exp(X)\n",
    "# print(exp_X)\n",
    "# keepdims=True ---> o'lchamlarni saqlab qolish: reshape(1,100) ni o'rniga keepdims=True yoziladi \n",
    "row_sum = np.sum(exp_X, axis=1, keepdims=True)\n",
    "probs = exp_X/row_sum\n",
    "print(probs)"
   ]
  },
  {
   "cell_type": "code",
   "execution_count": 46,
   "id": "09a72843-c57a-4f59-8fe3-0130a8f65623",
   "metadata": {},
   "outputs": [
    {
     "data": {
      "text/plain": [
       "array([0.22850876, 0.16076728, 0.18163906, 0.2514944 , 0.17759049])"
      ]
     },
     "execution_count": 46,
     "metadata": {},
     "output_type": "execute_result"
    }
   ],
   "source": [
    "probs[0]"
   ]
  },
  {
   "cell_type": "code",
   "execution_count": null,
   "id": "4d432449-2303-4a6a-ab68-21613824e8e7",
   "metadata": {},
   "outputs": [],
   "source": []
  },
  {
   "cell_type": "code",
   "execution_count": null,
   "id": "16b3c6ef-0b56-4bcb-8808-f86a89e94f40",
   "metadata": {},
   "outputs": [],
   "source": []
  },
  {
   "cell_type": "code",
   "execution_count": 2,
   "id": "eef73e5f-c297-4e58-9f40-cbde0a2e824f",
   "metadata": {},
   "outputs": [
    {
     "data": {
      "text/plain": [
       "array([16,  6,  7,  7, 13, 11, 12,  7, 16,  1], dtype=int32)"
      ]
     },
     "execution_count": 2,
     "metadata": {},
     "output_type": "execute_result"
    }
   ],
   "source": [
    "a=np.random.randint(20, size=10)\n",
    "a"
   ]
  },
  {
   "cell_type": "code",
   "execution_count": 3,
   "id": "6e4078b3-fbbc-42b7-a463-989730e40d77",
   "metadata": {},
   "outputs": [
    {
     "data": {
      "text/plain": [
       "10"
      ]
     },
     "execution_count": 3,
     "metadata": {},
     "output_type": "execute_result"
    }
   ],
   "source": [
    "a.shape[0]"
   ]
  },
  {
   "cell_type": "code",
   "execution_count": null,
   "id": "7fd949bc-6af4-4b8c-b3e2-4ce760888776",
   "metadata": {},
   "outputs": [],
   "source": []
  }
 ],
 "metadata": {
  "kernelspec": {
   "display_name": "Python 3 (ipykernel)",
   "language": "python",
   "name": "python3"
  },
  "language_info": {
   "codemirror_mode": {
    "name": "ipython",
    "version": 3
   },
   "file_extension": ".py",
   "mimetype": "text/x-python",
   "name": "python",
   "nbconvert_exporter": "python",
   "pygments_lexer": "ipython3",
   "version": "3.13.1"
  }
 },
 "nbformat": 4,
 "nbformat_minor": 5
}
