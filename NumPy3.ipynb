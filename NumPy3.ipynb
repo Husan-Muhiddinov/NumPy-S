{
 "cells": [
  {
   "cell_type": "code",
   "execution_count": 3,
   "id": "a8c213fb-306f-4af4-b84d-4f78893ab2ab",
   "metadata": {},
   "outputs": [],
   "source": [
    "import numpy as np"
   ]
  },
  {
   "cell_type": "code",
   "execution_count": 2,
   "id": "ddea342c-6cea-4f94-872d-dcaa7948e8a2",
   "metadata": {},
   "outputs": [
    {
     "name": "stdout",
     "output_type": "stream",
     "text": [
      "[16  0 10  8  3 14  5  9  5 17]\n",
      "\n",
      "[13  6 16 10  9 16  9  5  8 12]\n"
     ]
    }
   ],
   "source": [
    "a=np.random.randint(20, size=10)\n",
    "b=np.random.randint(20, size=10)\n",
    "print(a)\n",
    "print()\n",
    "print(b)"
   ]
  },
  {
   "cell_type": "code",
   "execution_count": 3,
   "id": "4d873b61-7f96-4c3f-a2d5-5ebe93d68dde",
   "metadata": {},
   "outputs": [
    {
     "data": {
      "text/plain": [
       "array([29,  6, 26, 18, 12, 30, 14, 14, 13, 29], dtype=int32)"
      ]
     },
     "execution_count": 3,
     "metadata": {},
     "output_type": "execute_result"
    }
   ],
   "source": [
    "c=a+b\n",
    "c"
   ]
  },
  {
   "cell_type": "code",
   "execution_count": 4,
   "id": "4e3080d9-1b87-4169-8502-3cebff6892f6",
   "metadata": {},
   "outputs": [
    {
     "data": {
      "text/plain": [
       "array([ 3, -6, -6, -2, -6, -2, -4,  4, -3,  5], dtype=int32)"
      ]
     },
     "execution_count": 4,
     "metadata": {},
     "output_type": "execute_result"
    }
   ],
   "source": [
    "c=a-b\n",
    "c"
   ]
  },
  {
   "cell_type": "code",
   "execution_count": 5,
   "id": "b3fa73dc-afef-4506-9e27-82c04d2e87db",
   "metadata": {},
   "outputs": [
    {
     "data": {
      "text/plain": [
       "array([1.23076923, 0.        , 0.625     , 0.8       , 0.33333333,\n",
       "       0.875     , 0.55555556, 1.8       , 0.625     , 1.41666667])"
      ]
     },
     "execution_count": 5,
     "metadata": {},
     "output_type": "execute_result"
    }
   ],
   "source": [
    "c=a/b\n",
    "c"
   ]
  },
  {
   "cell_type": "code",
   "execution_count": 6,
   "id": "749491c1-8eb8-4243-a259-0f63203e6a1b",
   "metadata": {},
   "outputs": [
    {
     "data": {
      "text/plain": [
       "array([208,   0, 160,  80,  27, 224,  45,  45,  40, 204], dtype=int32)"
      ]
     },
     "execution_count": 6,
     "metadata": {},
     "output_type": "execute_result"
    }
   ],
   "source": [
    "c=a*b\n",
    "c"
   ]
  },
  {
   "cell_type": "code",
   "execution_count": 9,
   "id": "ed023b30-35bf-48d2-81fc-ccfb03390b59",
   "metadata": {},
   "outputs": [
    {
     "name": "stdout",
     "output_type": "stream",
     "text": [
      "[ 1 18  2 16  9  9  4 17 19 14]\n",
      "\n",
      "[13  6 16 10  9 16  9  5  8 12]\n",
      "\n",
      "979\n"
     ]
    }
   ],
   "source": [
    "#  a va b ning skalyar ko'paytmasini topib beradi\n",
    "\n",
    "c=sum(a*b)\n",
    "\n",
    "print(a)\n",
    "print()\n",
    "print(b)\n",
    "print()\n",
    "print(c)"
   ]
  },
  {
   "cell_type": "code",
   "execution_count": 11,
   "id": "ad838418-6e0b-4eda-8896-02d6e2b84f16",
   "metadata": {},
   "outputs": [
    {
     "data": {
      "text/plain": [
       "np.int32(979)"
      ]
     },
     "execution_count": 11,
     "metadata": {},
     "output_type": "execute_result"
    }
   ],
   "source": [
    "# \"dot\" ham a va b ning skalyar ko'paytmasini topib beradi\n",
    "\n",
    "c=np.dot(a, b)\n",
    "c"
   ]
  },
  {
   "cell_type": "code",
   "execution_count": 12,
   "id": "90ea66fe-e459-4fc8-acda-53ba24f273d9",
   "metadata": {},
   "outputs": [
    {
     "data": {
      "text/plain": [
       "np.int32(979)"
      ]
     },
     "execution_count": 12,
     "metadata": {},
     "output_type": "execute_result"
    }
   ],
   "source": [
    "# \"inner\" ham a va b ning skalyar ko'paytmasini topib beradi\n",
    "\n",
    "c=np.inner(a, b)\n",
    "c"
   ]
  },
  {
   "cell_type": "code",
   "execution_count": 14,
   "id": "11fe0b48-9f3f-4715-b0b9-be2d75047884",
   "metadata": {},
   "outputs": [
    {
     "name": "stdout",
     "output_type": "stream",
     "text": [
      "[ 1 18  2 16  9  9  4 17 19 14]\n",
      "\n",
      "[13  6 16 10  9 16  9  5  8 12]\n",
      "\n",
      "[[ 13   6  16  10   9  16   9   5   8  12]\n",
      " [234 108 288 180 162 288 162  90 144 216]\n",
      " [ 26  12  32  20  18  32  18  10  16  24]\n",
      " [208  96 256 160 144 256 144  80 128 192]\n",
      " [117  54 144  90  81 144  81  45  72 108]\n",
      " [117  54 144  90  81 144  81  45  72 108]\n",
      " [ 52  24  64  40  36  64  36  20  32  48]\n",
      " [221 102 272 170 153 272 153  85 136 204]\n",
      " [247 114 304 190 171 304 171  95 152 228]\n",
      " [182  84 224 140 126 224 126  70 112 168]]\n"
     ]
    }
   ],
   "source": [
    "# outer --> tashqi ko'paytma\n",
    "\n",
    "c=np.outer(a, b)\n",
    "print(a)\n",
    "print()\n",
    "print(b)\n",
    "print()\n",
    "print(c)"
   ]
  },
  {
   "cell_type": "code",
   "execution_count": 17,
   "id": "daed94ad-70dc-4be7-a688-27e26c0c5425",
   "metadata": {},
   "outputs": [
    {
     "name": "stdout",
     "output_type": "stream",
     "text": [
      "[ 1 18  2 16  9  9  4 17 19 14]\n",
      "True\n"
     ]
    }
   ],
   "source": [
    "# \"all \" bu noldan fraqlilikka yoki hammasi True likka tkshiradi\n",
    "\n",
    "print(a)\n",
    "c=np.all(a)\n",
    "print(c)"
   ]
  },
  {
   "cell_type": "code",
   "execution_count": 7,
   "id": "60cf45a6-566b-4616-8578-ecb61ff82b7e",
   "metadata": {},
   "outputs": [
    {
     "name": "stdout",
     "output_type": "stream",
     "text": [
      "[11 13  5 10  3  0  5 19 17  6]\n"
     ]
    },
    {
     "data": {
      "text/plain": [
       "array([5.98741417e+04, 4.42413392e+05, 1.48413159e+02, 2.20264658e+04,\n",
       "       2.00855369e+01, 1.00000000e+00, 1.48413159e+02, 1.78482301e+08,\n",
       "       2.41549528e+07, 4.03428793e+02])"
      ]
     },
     "execution_count": 7,
     "metadata": {},
     "output_type": "execute_result"
    }
   ],
   "source": [
    "# exponentasini topish\n",
    "\n",
    "a=np.random.randint(20, size=10)\n",
    "print(a)\n",
    "c=np.exp(a)\n",
    "c"
   ]
  },
  {
   "cell_type": "code",
   "execution_count": 18,
   "id": "72f49a4b-1422-4ab6-aa34-f7f52447a46a",
   "metadata": {},
   "outputs": [
    {
     "name": "stdout",
     "output_type": "stream",
     "text": [
      "[ 8  9  9  3 11  7 19 11 15 19]\n"
     ]
    },
    {
     "data": {
      "text/plain": [
       "np.int64(111)"
      ]
     },
     "execution_count": 18,
     "metadata": {},
     "output_type": "execute_result"
    }
   ],
   "source": [
    "a=np.random.randint(20, size=10)\n",
    "print(a)\n",
    "c=np.sum(a)\n",
    "c"
   ]
  },
  {
   "cell_type": "code",
   "execution_count": null,
   "id": "ae7b511d-0e66-44d9-9023-b4ef54fa5df0",
   "metadata": {},
   "outputs": [],
   "source": []
  },
  {
   "cell_type": "code",
   "execution_count": null,
   "id": "85ba8e9c-7deb-40c6-a231-fafb5698be18",
   "metadata": {},
   "outputs": [],
   "source": []
  },
  {
   "cell_type": "code",
   "execution_count": 4,
   "id": "d49b61fe-1ded-47ce-a62a-eabbf99c23cc",
   "metadata": {},
   "outputs": [
    {
     "name": "stdout",
     "output_type": "stream",
     "text": [
      "[ True  True False False False False  True False False False]\n",
      "\n",
      "[False False False  True False  True False  True False  True]\n"
     ]
    }
   ],
   "source": [
    "a=np.random.randint(2, size=(10, ), dtype=bool)\n",
    "b=np.random.randint(2, size=(10, ), dtype=bool)\n",
    "print(a)\n",
    "print()\n",
    "print(b)"
   ]
  },
  {
   "cell_type": "code",
   "execution_count": 5,
   "id": "61903557-166c-4f9b-9a1d-133d779383f3",
   "metadata": {},
   "outputs": [
    {
     "data": {
      "text/plain": [
       "array([False, False, False, False, False, False, False, False, False,\n",
       "       False])"
      ]
     },
     "execution_count": 5,
     "metadata": {},
     "output_type": "execute_result"
    }
   ],
   "source": [
    "c=np.logical_and(a,b)\n",
    "c"
   ]
  },
  {
   "cell_type": "code",
   "execution_count": 6,
   "id": "0519efa2-9115-47c1-b835-1a557afa8336",
   "metadata": {},
   "outputs": [
    {
     "data": {
      "text/plain": [
       "array([ True,  True, False,  True, False,  True,  True,  True, False,\n",
       "        True])"
      ]
     },
     "execution_count": 6,
     "metadata": {},
     "output_type": "execute_result"
    }
   ],
   "source": [
    "c=np.logical_or(a,b)\n",
    "c"
   ]
  },
  {
   "cell_type": "code",
   "execution_count": 7,
   "id": "e2c67ea8-09b0-475a-abd0-87ccc43bf1b1",
   "metadata": {},
   "outputs": [
    {
     "data": {
      "text/plain": [
       "array([False, False,  True,  True,  True,  True, False,  True,  True,\n",
       "        True])"
      ]
     },
     "execution_count": 7,
     "metadata": {},
     "output_type": "execute_result"
    }
   ],
   "source": [
    "c=np.logical_not(a)\n",
    "c"
   ]
  },
  {
   "cell_type": "code",
   "execution_count": 10,
   "id": "0ef9bd73-0a00-4c27-b4b0-0af31ee77b30",
   "metadata": {},
   "outputs": [
    {
     "data": {
      "text/plain": [
       "True"
      ]
     },
     "execution_count": 10,
     "metadata": {},
     "output_type": "execute_result"
    }
   ],
   "source": [
    "c=a\n",
    "c is a"
   ]
  },
  {
   "cell_type": "code",
   "execution_count": 11,
   "id": "9635d897-ced7-4b20-89b2-ef1bdf53efd8",
   "metadata": {},
   "outputs": [
    {
     "name": "stdout",
     "output_type": "stream",
     "text": [
      "[13  9  9 19 13 12 10 17 18 18]\n",
      "\n",
      "[ 3 18 11 16  2  2  4 15 13 12]\n"
     ]
    }
   ],
   "source": [
    "a=np.random.randint(20, size=10)\n",
    "b=np.random.randint(20, size=10)\n",
    "print(a)\n",
    "print()\n",
    "print(b)"
   ]
  },
  {
   "cell_type": "code",
   "execution_count": 12,
   "id": "c41cc4a4-bcc4-45fa-bdc0-b0cd39a1dd75",
   "metadata": {},
   "outputs": [
    {
     "data": {
      "text/plain": [
       "True"
      ]
     },
     "execution_count": 12,
     "metadata": {},
     "output_type": "execute_result"
    }
   ],
   "source": [
    "17 in a"
   ]
  },
  {
   "cell_type": "code",
   "execution_count": 15,
   "id": "0ad9f730-12c4-4cd8-864c-8bc09b04480c",
   "metadata": {},
   "outputs": [
    {
     "name": "stdout",
     "output_type": "stream",
     "text": [
      "[13  9  9 19 13 12 10 17 18 18]\n"
     ]
    },
    {
     "ename": "TypeError",
     "evalue": "allclose() missing 1 required positional argument: 'b'",
     "output_type": "error",
     "traceback": [
      "\u001b[1;31m---------------------------------------------------------------------------\u001b[0m",
      "\u001b[1;31mTypeError\u001b[0m                                 Traceback (most recent call last)",
      "Cell \u001b[1;32mIn[15], line 4\u001b[0m\n\u001b[0;32m      1\u001b[0m \u001b[38;5;66;03m# allclose --> ikkita vektor bersak ularning hamma qiymatlari tengmi hammasini solishtirib beradi\u001b[39;00m\n\u001b[0;32m      3\u001b[0m \u001b[38;5;28mprint\u001b[39m(a)\n\u001b[1;32m----> 4\u001b[0m c \u001b[38;5;241m=\u001b[39m \u001b[43mnp\u001b[49m\u001b[38;5;241;43m.\u001b[39;49m\u001b[43mallclose\u001b[49m\u001b[43m(\u001b[49m\u001b[43ma\u001b[49m\u001b[43m)\u001b[49m\n\u001b[0;32m      5\u001b[0m c\n",
      "\u001b[1;31mTypeError\u001b[0m: allclose() missing 1 required positional argument: 'b'"
     ]
    }
   ],
   "source": [
    "# allclose --> ikkita vektor bersak ularning hamma qiymatlari tengmi hammasini solishtirib beradi\n",
    "\n",
    "print(a)\n",
    "c = np.allclose(a)\n",
    "c"
   ]
  },
  {
   "cell_type": "code",
   "execution_count": null,
   "id": "a4676157-d577-47c7-b218-50f59b23b5d7",
   "metadata": {},
   "outputs": [],
   "source": []
  },
  {
   "cell_type": "markdown",
   "id": "40b9d973-5f82-4a3e-9725-e5f38a701efb",
   "metadata": {},
   "source": [
    "MATRITSALAR USTIDA AMALLAR"
   ]
  },
  {
   "cell_type": "code",
   "execution_count": 16,
   "id": "a6820ba4-6e3a-46eb-b47e-7110f605714d",
   "metadata": {},
   "outputs": [
    {
     "name": "stdout",
     "output_type": "stream",
     "text": [
      "[[18 15 12]\n",
      " [16  0  5]\n",
      " [ 6 11  7]\n",
      " [ 8  3 12]]\n",
      "\n",
      "[[ 8 14 15]\n",
      " [ 7 14  9]\n",
      " [ 5 14  8]\n",
      " [15  5  9]]\n"
     ]
    }
   ],
   "source": [
    "A = np.random.randint(20, size=(4,3))\n",
    "B = np.random.randint(20, size=(4,3))\n",
    "print(A)\n",
    "print()\n",
    "print(B)"
   ]
  },
  {
   "cell_type": "code",
   "execution_count": 17,
   "id": "e4b73027-3645-45bc-a98d-f7b66086b041",
   "metadata": {},
   "outputs": [
    {
     "data": {
      "text/plain": [
       "array([[144, 210, 180],\n",
       "       [112,   0,  45],\n",
       "       [ 30, 154,  56],\n",
       "       [120,  15, 108]], dtype=int32)"
      ]
     },
     "execution_count": 17,
     "metadata": {},
     "output_type": "execute_result"
    }
   ],
   "source": [
    "c=A*B\n",
    "c"
   ]
  },
  {
   "cell_type": "code",
   "execution_count": 18,
   "id": "5300f054-ac89-42c0-a747-ea2c26be6585",
   "metadata": {},
   "outputs": [
    {
     "name": "stdout",
     "output_type": "stream",
     "text": [
      "[[10 10 10]\n",
      " [ 9 12 16]\n",
      " [14  6 11]\n",
      " [ 6  6 12]\n",
      " [11 19  7]]\n",
      "\n",
      "[[17 15  6 10]\n",
      " [ 8 17 15  1]\n",
      " [ 7  7 14  3]]\n"
     ]
    }
   ],
   "source": [
    "A = np.random.randint(20, size=(5,3))\n",
    "B = np.random.randint(20, size=(3,4))\n",
    "print(A)\n",
    "print()\n",
    "print(B)"
   ]
  },
  {
   "cell_type": "code",
   "execution_count": 20,
   "id": "f89a873f-b221-4732-83ed-05704bc9cb44",
   "metadata": {},
   "outputs": [
    {
     "name": "stdout",
     "output_type": "stream",
     "text": [
      "[[320 390 350 140]\n",
      " [361 451 458 150]\n",
      " [363 389 328 179]\n",
      " [234 276 294 102]\n",
      " [388 537 449 150]]\n"
     ]
    }
   ],
   "source": [
    "# Matritsani matritsaga ko'paytirish\n",
    "\n",
    "c=np.matmul(A, B)\n",
    "print(c)"
   ]
  },
  {
   "cell_type": "code",
   "execution_count": 21,
   "id": "d6ece6cb-7c61-47cc-bff8-fea5c7e82f61",
   "metadata": {},
   "outputs": [
    {
     "name": "stdout",
     "output_type": "stream",
     "text": [
      "[[ 0  7  3]\n",
      " [11 13  4]\n",
      " [ 5  7  1]\n",
      " [ 7 11 19]\n",
      " [ 3 11  3]]\n",
      "\n",
      "[[ 9 15  2  9]\n",
      " [ 5  4  0 14]\n",
      " [ 5 10  6 17]]\n"
     ]
    }
   ],
   "source": [
    "A = np.random.randint(20, size=(5,3))\n",
    "B = np.random.randint(20, size=(3,4))\n",
    "print(A)\n",
    "print()\n",
    "print(B)"
   ]
  },
  {
   "cell_type": "code",
   "execution_count": 22,
   "id": "2815f412-f0b8-449e-84f0-bcaab2a44a9e",
   "metadata": {},
   "outputs": [
    {
     "data": {
      "text/plain": [
       "np.int64(105)"
      ]
     },
     "execution_count": 22,
     "metadata": {},
     "output_type": "execute_result"
    }
   ],
   "source": [
    "# A matritsaning yi'g'indisi\n",
    "\n",
    "np.sum(A)"
   ]
  },
  {
   "cell_type": "code",
   "execution_count": 23,
   "id": "f2cbe02a-8575-4a08-8359-94e977b62018",
   "metadata": {},
   "outputs": [
    {
     "data": {
      "text/plain": [
       "array([10, 28, 13, 37, 17])"
      ]
     },
     "execution_count": 23,
     "metadata": {},
     "output_type": "execute_result"
    }
   ],
   "source": [
    "# A matritsaning har bir qatorining yi'g'indisi\n",
    "\n",
    "np.sum(A, axis=1)"
   ]
  },
  {
   "cell_type": "code",
   "execution_count": 24,
   "id": "5c07a803-111e-4f45-be19-d46c29faf495",
   "metadata": {},
   "outputs": [
    {
     "data": {
      "text/plain": [
       "array([26, 49, 30])"
      ]
     },
     "execution_count": 24,
     "metadata": {},
     "output_type": "execute_result"
    }
   ],
   "source": [
    "# A matritsaning har bir ustunining yi'g'indisi\n",
    "\n",
    "np.sum(A, axis=0)"
   ]
  },
  {
   "cell_type": "code",
   "execution_count": 25,
   "id": "b7e414ce-6904-4df6-b621-b18c384a94a5",
   "metadata": {},
   "outputs": [
    {
     "data": {
      "text/plain": [
       "np.int32(19)"
      ]
     },
     "execution_count": 25,
     "metadata": {},
     "output_type": "execute_result"
    }
   ],
   "source": [
    "np.max(A)"
   ]
  },
  {
   "cell_type": "code",
   "execution_count": 26,
   "id": "2676a52e-0d08-40ee-9309-e8a70a12412f",
   "metadata": {},
   "outputs": [
    {
     "data": {
      "text/plain": [
       "array([ 7, 13,  7, 19, 11], dtype=int32)"
      ]
     },
     "execution_count": 26,
     "metadata": {},
     "output_type": "execute_result"
    }
   ],
   "source": [
    "# Har bir qator bo'yicha maksimallar\n",
    "\n",
    "np.max(A, axis=1)"
   ]
  },
  {
   "cell_type": "code",
   "execution_count": 27,
   "id": "00d4614f-5dbf-4030-801b-9d501ee94bd8",
   "metadata": {},
   "outputs": [
    {
     "data": {
      "text/plain": [
       "array([11, 13, 19], dtype=int32)"
      ]
     },
     "execution_count": 27,
     "metadata": {},
     "output_type": "execute_result"
    }
   ],
   "source": [
    "# Har bir qator bo'yicha minimumllar\n",
    "\n",
    "np.max(A, axis=0)"
   ]
  },
  {
   "cell_type": "code",
   "execution_count": 28,
   "id": "226aced9-f0d7-4992-9540-4fd617b0612b",
   "metadata": {},
   "outputs": [
    {
     "data": {
      "text/plain": [
       "np.float64(7.0)"
      ]
     },
     "execution_count": 28,
     "metadata": {},
     "output_type": "execute_result"
    }
   ],
   "source": [
    "# Matritsaning o'rta arfmetigini topish. Hamma elementlarini qo'shib qo'shiluvchilaring soniga bo'ladi\n",
    "\n",
    "np.mean(A)"
   ]
  },
  {
   "cell_type": "code",
   "execution_count": null,
   "id": "ea752e60-8d39-40a8-a002-3784e7316a7e",
   "metadata": {},
   "outputs": [],
   "source": []
  }
 ],
 "metadata": {
  "kernelspec": {
   "display_name": "Python 3 (ipykernel)",
   "language": "python",
   "name": "python3"
  },
  "language_info": {
   "codemirror_mode": {
    "name": "ipython",
    "version": 3
   },
   "file_extension": ".py",
   "mimetype": "text/x-python",
   "name": "python",
   "nbconvert_exporter": "python",
   "pygments_lexer": "ipython3",
   "version": "3.13.1"
  }
 },
 "nbformat": 4,
 "nbformat_minor": 5
}
