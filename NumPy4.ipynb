{
 "cells": [
  {
   "cell_type": "code",
   "execution_count": 1,
   "id": "0a84ae4f-dc3b-4317-b4a7-58834795452e",
   "metadata": {},
   "outputs": [],
   "source": [
    "import numpy as p"
   ]
  },
  {
   "cell_type": "code",
   "execution_count": null,
   "id": "aa5db23d-6c17-4733-bdc7-811bf0edf131",
   "metadata": {},
   "outputs": [],
   "source": []
  }
 ],
 "metadata": {
  "kernelspec": {
   "display_name": "Python 3 (ipykernel)",
   "language": "python",
   "name": "python3"
  },
  "language_info": {
   "codemirror_mode": {
    "name": "ipython",
    "version": 3
   },
   "file_extension": ".py",
   "mimetype": "text/x-python",
   "name": "python",
   "nbconvert_exporter": "python",
   "pygments_lexer": "ipython3",
   "version": "3.13.1"
  }
 },
 "nbformat": 4,
 "nbformat_minor": 5
}
