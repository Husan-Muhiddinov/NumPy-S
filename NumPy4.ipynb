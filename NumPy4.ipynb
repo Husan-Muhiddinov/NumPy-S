{
 "cells": [
  {
   "cell_type": "code",
   "execution_count": 1,
   "id": "0a84ae4f-dc3b-4317-b4a7-58834795452e",
   "metadata": {},
   "outputs": [],
   "source": [
    "import numpy as p"
   ]
  },
  {
   "cell_type": "code",
   "execution_count": 1,
   "id": "aa5db23d-6c17-4733-bdc7-811bf0edf131",
   "metadata": {},
   "outputs": [
    {
     "ename": "KeyboardInterrupt",
     "evalue": "Interrupted by user",
     "output_type": "error",
     "traceback": [
      "\u001b[1;31m---------------------------------------------------------------------------\u001b[0m",
      "\u001b[1;31mKeyboardInterrupt\u001b[0m                         Traceback (most recent call last)",
      "Cell \u001b[1;32mIn[1], line 48\u001b[0m\n\u001b[0;32m     45\u001b[0m     \u001b[38;5;28;01mreturn\u001b[39;00m result\n\u001b[0;32m     47\u001b[0m \u001b[38;5;66;03m# Kirish ma'lumotlarini olish\u001b[39;00m\n\u001b[1;32m---> 48\u001b[0m X, Y \u001b[38;5;241m=\u001b[39m \u001b[38;5;28mmap\u001b[39m(\u001b[38;5;28mint\u001b[39m, \u001b[38;5;28;43minput\u001b[39;49m\u001b[43m(\u001b[49m\u001b[43m)\u001b[49m\u001b[38;5;241m.\u001b[39msplit())\n\u001b[0;32m     49\u001b[0m image \u001b[38;5;241m=\u001b[39m [\u001b[38;5;28mlist\u001b[39m(\u001b[38;5;28mmap\u001b[39m(\u001b[38;5;28mint\u001b[39m, \u001b[38;5;28minput\u001b[39m()\u001b[38;5;241m.\u001b[39mstrip())) \u001b[38;5;28;01mfor\u001b[39;00m _ \u001b[38;5;129;01min\u001b[39;00m \u001b[38;5;28mrange\u001b[39m(X)]\n\u001b[0;32m     50\u001b[0m K \u001b[38;5;241m=\u001b[39m \u001b[38;5;28mint\u001b[39m(\u001b[38;5;28minput\u001b[39m())\n",
      "File \u001b[1;32m~\\AppData\\Local\\Programs\\Python\\Python313\\Lib\\site-packages\\ipykernel\\kernelbase.py:1282\u001b[0m, in \u001b[0;36mKernel.raw_input\u001b[1;34m(self, prompt)\u001b[0m\n\u001b[0;32m   1280\u001b[0m     msg \u001b[38;5;241m=\u001b[39m \u001b[38;5;124m\"\u001b[39m\u001b[38;5;124mraw_input was called, but this frontend does not support input requests.\u001b[39m\u001b[38;5;124m\"\u001b[39m\n\u001b[0;32m   1281\u001b[0m     \u001b[38;5;28;01mraise\u001b[39;00m StdinNotImplementedError(msg)\n\u001b[1;32m-> 1282\u001b[0m \u001b[38;5;28;01mreturn\u001b[39;00m \u001b[38;5;28;43mself\u001b[39;49m\u001b[38;5;241;43m.\u001b[39;49m\u001b[43m_input_request\u001b[49m\u001b[43m(\u001b[49m\n\u001b[0;32m   1283\u001b[0m \u001b[43m    \u001b[49m\u001b[38;5;28;43mstr\u001b[39;49m\u001b[43m(\u001b[49m\u001b[43mprompt\u001b[49m\u001b[43m)\u001b[49m\u001b[43m,\u001b[49m\n\u001b[0;32m   1284\u001b[0m \u001b[43m    \u001b[49m\u001b[38;5;28;43mself\u001b[39;49m\u001b[38;5;241;43m.\u001b[39;49m\u001b[43m_parent_ident\u001b[49m\u001b[43m[\u001b[49m\u001b[38;5;124;43m\"\u001b[39;49m\u001b[38;5;124;43mshell\u001b[39;49m\u001b[38;5;124;43m\"\u001b[39;49m\u001b[43m]\u001b[49m\u001b[43m,\u001b[49m\n\u001b[0;32m   1285\u001b[0m \u001b[43m    \u001b[49m\u001b[38;5;28;43mself\u001b[39;49m\u001b[38;5;241;43m.\u001b[39;49m\u001b[43mget_parent\u001b[49m\u001b[43m(\u001b[49m\u001b[38;5;124;43m\"\u001b[39;49m\u001b[38;5;124;43mshell\u001b[39;49m\u001b[38;5;124;43m\"\u001b[39;49m\u001b[43m)\u001b[49m\u001b[43m,\u001b[49m\n\u001b[0;32m   1286\u001b[0m \u001b[43m    \u001b[49m\u001b[43mpassword\u001b[49m\u001b[38;5;241;43m=\u001b[39;49m\u001b[38;5;28;43;01mFalse\u001b[39;49;00m\u001b[43m,\u001b[49m\n\u001b[0;32m   1287\u001b[0m \u001b[43m\u001b[49m\u001b[43m)\u001b[49m\n",
      "File \u001b[1;32m~\\AppData\\Local\\Programs\\Python\\Python313\\Lib\\site-packages\\ipykernel\\kernelbase.py:1325\u001b[0m, in \u001b[0;36mKernel._input_request\u001b[1;34m(self, prompt, ident, parent, password)\u001b[0m\n\u001b[0;32m   1322\u001b[0m \u001b[38;5;28;01mexcept\u001b[39;00m \u001b[38;5;167;01mKeyboardInterrupt\u001b[39;00m:\n\u001b[0;32m   1323\u001b[0m     \u001b[38;5;66;03m# re-raise KeyboardInterrupt, to truncate traceback\u001b[39;00m\n\u001b[0;32m   1324\u001b[0m     msg \u001b[38;5;241m=\u001b[39m \u001b[38;5;124m\"\u001b[39m\u001b[38;5;124mInterrupted by user\u001b[39m\u001b[38;5;124m\"\u001b[39m\n\u001b[1;32m-> 1325\u001b[0m     \u001b[38;5;28;01mraise\u001b[39;00m \u001b[38;5;167;01mKeyboardInterrupt\u001b[39;00m(msg) \u001b[38;5;28;01mfrom\u001b[39;00m \u001b[38;5;28;01mNone\u001b[39;00m\n\u001b[0;32m   1326\u001b[0m \u001b[38;5;28;01mexcept\u001b[39;00m \u001b[38;5;167;01mException\u001b[39;00m:\n\u001b[0;32m   1327\u001b[0m     \u001b[38;5;28mself\u001b[39m\u001b[38;5;241m.\u001b[39mlog\u001b[38;5;241m.\u001b[39mwarning(\u001b[38;5;124m\"\u001b[39m\u001b[38;5;124mInvalid Message:\u001b[39m\u001b[38;5;124m\"\u001b[39m, exc_info\u001b[38;5;241m=\u001b[39m\u001b[38;5;28;01mTrue\u001b[39;00m)\n",
      "\u001b[1;31mKeyboardInterrupt\u001b[0m: Interrupted by user"
     ]
    }
   ],
   "source": [
    "from collections import deque\n",
    "\n",
    "# Qo'shni pikselni olish uchun funksiyalar\n",
    "directions = [(-1, 0), (1, 0), (0, -1), (0, 1)]\n",
    "\n",
    "def in_bounds(x, y, max_x, max_y):\n",
    "    return 0 <= x < max_x and 0 <= y < max_y\n",
    "\n",
    "def bfs(x, y, image, visited):\n",
    "    queue = deque([(x, y)])\n",
    "    visited[x][y] = True\n",
    "    pixels = [(x, y)]\n",
    "    \n",
    "    while queue:\n",
    "        cx, cy = queue.popleft()\n",
    "        for dx, dy in directions:\n",
    "            nx, ny = cx + dx, cy + dy\n",
    "            if in_bounds(nx, ny, len(image), len(image[0])) and not visited[nx][ny] and image[nx][ny] == 1:\n",
    "                visited[nx][ny] = True\n",
    "                queue.append((nx, ny))\n",
    "                pixels.append((nx, ny))\n",
    "    \n",
    "    return pixels\n",
    "\n",
    "def calculate_diameter(pixels):\n",
    "    min_x = min(pixels, key=lambda p: p[0])[0]\n",
    "    max_x = max(pixels, key=lambda p: p[0])[0]\n",
    "    min_y = min(pixels, key=lambda p: p[1])[1]\n",
    "    max_y = max(pixels, key=lambda p: p[1])[1]\n",
    "    return max(max_x - min_x, max_y - min_y) + 1\n",
    "\n",
    "def clean_image(image, K):\n",
    "    max_x, max_y = len(image), len(image[0])\n",
    "    visited = [[False] * max_y for _ in range(max_x)]\n",
    "    result = [row[:] for row in image]\n",
    "    \n",
    "    for i in range(max_x):\n",
    "        for j in range(max_y):\n",
    "            if image[i][j] == 1 and not visited[i][j]:\n",
    "                pixels = bfs(i, j, image, visited)\n",
    "                diameter = calculate_diameter(pixels)\n",
    "                if diameter <= K:\n",
    "                    for x, y in pixels:\n",
    "                        result[x][y] = 0\n",
    "    return result\n",
    "\n",
    "# Kirish ma'lumotlarini olish\n",
    "X, Y = map(int, input().split())\n",
    "image = [list(map(int, input().strip())) for _ in range(X)]\n",
    "K = int(input())\n",
    "\n",
    "# Dog'lardan tozalangan tasvirni olish\n",
    "cleaned_image = clean_image(image, K)\n",
    "\n",
    "# Natijani chiqarish\n",
    "for row in cleaned_image:\n",
    "    print(''.join(map(str, row)))\n"
   ]
  },
  {
   "cell_type": "code",
   "execution_count": 2,
   "id": "d807c322-0ca4-49b5-8793-1f44ca3b5031",
   "metadata": {},
   "outputs": [
    {
     "ename": "FileNotFoundError",
     "evalue": "[Errno 2] No such file or directory: 'input.txt'",
     "output_type": "error",
     "traceback": [
      "\u001b[1;31m---------------------------------------------------------------------------\u001b[0m",
      "\u001b[1;31mFileNotFoundError\u001b[0m                         Traceback (most recent call last)",
      "Cell \u001b[1;32mIn[2], line 63\u001b[0m\n\u001b[0;32m     60\u001b[0m     write_output(cleared_image)\n\u001b[0;32m     62\u001b[0m \u001b[38;5;28;01mif\u001b[39;00m \u001b[38;5;18m__name__\u001b[39m \u001b[38;5;241m==\u001b[39m \u001b[38;5;124m\"\u001b[39m\u001b[38;5;124m__main__\u001b[39m\u001b[38;5;124m\"\u001b[39m:\n\u001b[1;32m---> 63\u001b[0m     \u001b[43mmain\u001b[49m\u001b[43m(\u001b[49m\u001b[43m)\u001b[49m\n",
      "Cell \u001b[1;32mIn[2], line 58\u001b[0m, in \u001b[0;36mmain\u001b[1;34m()\u001b[0m\n\u001b[0;32m     57\u001b[0m \u001b[38;5;28;01mdef\u001b[39;00m \u001b[38;5;21mmain\u001b[39m():\n\u001b[1;32m---> 58\u001b[0m     X, Y, image, K \u001b[38;5;241m=\u001b[39m \u001b[43mread_input\u001b[49m\u001b[43m(\u001b[49m\u001b[43m)\u001b[49m\n\u001b[0;32m     59\u001b[0m     cleared_image \u001b[38;5;241m=\u001b[39m clear_dots(image, K)\n\u001b[0;32m     60\u001b[0m     write_output(cleared_image)\n",
      "Cell \u001b[1;32mIn[2], line 2\u001b[0m, in \u001b[0;36mread_input\u001b[1;34m()\u001b[0m\n\u001b[0;32m      1\u001b[0m \u001b[38;5;28;01mdef\u001b[39;00m \u001b[38;5;21mread_input\u001b[39m():\n\u001b[1;32m----> 2\u001b[0m     \u001b[38;5;28;01mwith\u001b[39;00m \u001b[38;5;28;43mopen\u001b[39;49m\u001b[43m(\u001b[49m\u001b[38;5;124;43m'\u001b[39;49m\u001b[38;5;124;43minput.txt\u001b[39;49m\u001b[38;5;124;43m'\u001b[39;49m\u001b[43m,\u001b[49m\u001b[43m \u001b[49m\u001b[38;5;124;43m'\u001b[39;49m\u001b[38;5;124;43mr\u001b[39;49m\u001b[38;5;124;43m'\u001b[39;49m\u001b[43m)\u001b[49m \u001b[38;5;28;01mas\u001b[39;00m file:\n\u001b[0;32m      3\u001b[0m         X, Y \u001b[38;5;241m=\u001b[39m \u001b[38;5;28mmap\u001b[39m(\u001b[38;5;28mint\u001b[39m, file\u001b[38;5;241m.\u001b[39mreadline()\u001b[38;5;241m.\u001b[39mstrip()\u001b[38;5;241m.\u001b[39msplit())\n\u001b[0;32m      4\u001b[0m         image \u001b[38;5;241m=\u001b[39m [\u001b[38;5;28mlist\u001b[39m(file\u001b[38;5;241m.\u001b[39mreadline()\u001b[38;5;241m.\u001b[39mstrip()) \u001b[38;5;28;01mfor\u001b[39;00m _ \u001b[38;5;129;01min\u001b[39;00m \u001b[38;5;28mrange\u001b[39m(Y)]\n",
      "File \u001b[1;32m~\\AppData\\Local\\Programs\\Python\\Python313\\Lib\\site-packages\\IPython\\core\\interactiveshell.py:324\u001b[0m, in \u001b[0;36m_modified_open\u001b[1;34m(file, *args, **kwargs)\u001b[0m\n\u001b[0;32m    317\u001b[0m \u001b[38;5;28;01mif\u001b[39;00m file \u001b[38;5;129;01min\u001b[39;00m {\u001b[38;5;241m0\u001b[39m, \u001b[38;5;241m1\u001b[39m, \u001b[38;5;241m2\u001b[39m}:\n\u001b[0;32m    318\u001b[0m     \u001b[38;5;28;01mraise\u001b[39;00m \u001b[38;5;167;01mValueError\u001b[39;00m(\n\u001b[0;32m    319\u001b[0m         \u001b[38;5;124mf\u001b[39m\u001b[38;5;124m\"\u001b[39m\u001b[38;5;124mIPython won\u001b[39m\u001b[38;5;124m'\u001b[39m\u001b[38;5;124mt let you open fd=\u001b[39m\u001b[38;5;132;01m{\u001b[39;00mfile\u001b[38;5;132;01m}\u001b[39;00m\u001b[38;5;124m by default \u001b[39m\u001b[38;5;124m\"\u001b[39m\n\u001b[0;32m    320\u001b[0m         \u001b[38;5;124m\"\u001b[39m\u001b[38;5;124mas it is likely to crash IPython. If you know what you are doing, \u001b[39m\u001b[38;5;124m\"\u001b[39m\n\u001b[0;32m    321\u001b[0m         \u001b[38;5;124m\"\u001b[39m\u001b[38;5;124myou can use builtins\u001b[39m\u001b[38;5;124m'\u001b[39m\u001b[38;5;124m open.\u001b[39m\u001b[38;5;124m\"\u001b[39m\n\u001b[0;32m    322\u001b[0m     )\n\u001b[1;32m--> 324\u001b[0m \u001b[38;5;28;01mreturn\u001b[39;00m \u001b[43mio_open\u001b[49m\u001b[43m(\u001b[49m\u001b[43mfile\u001b[49m\u001b[43m,\u001b[49m\u001b[43m \u001b[49m\u001b[38;5;241;43m*\u001b[39;49m\u001b[43margs\u001b[49m\u001b[43m,\u001b[49m\u001b[43m \u001b[49m\u001b[38;5;241;43m*\u001b[39;49m\u001b[38;5;241;43m*\u001b[39;49m\u001b[43mkwargs\u001b[49m\u001b[43m)\u001b[49m\n",
      "\u001b[1;31mFileNotFoundError\u001b[0m: [Errno 2] No such file or directory: 'input.txt'"
     ]
    }
   ],
   "source": [
    "def read_input():\n",
    "    with open('input.txt', 'r') as file:\n",
    "        X, Y = map(int, file.readline().strip().split())\n",
    "        image = [list(file.readline().strip()) for _ in range(Y)]\n",
    "        K = int(file.readline().strip())\n",
    "    return X, Y, image, K\n",
    "\n",
    "def write_output(image):\n",
    "    with open('output.txt', 'w') as file:\n",
    "        for row in image:\n",
    "            file.write(''.join(row) + '\\n')\n",
    "\n",
    "def is_within_bounds(x, y, X, Y):\n",
    "    return 0 <= x < X and 0 <= y < Y\n",
    "\n",
    "def bfs(image, start_x, start_y, visited):\n",
    "    queue = [(start_x, start_y)]\n",
    "    visited.add((start_x, start_y))\n",
    "    pixels = [(start_x, start_y)]\n",
    "    \n",
    "    directions = [(-1, 0), (1, 0), (0, -1), (0, 1)]\n",
    "    \n",
    "    while queue:\n",
    "        x, y = queue.pop(0)\n",
    "        for dx, dy in directions:\n",
    "            nx, ny = x + dx, y + dy\n",
    "            if is_within_bounds(nx, ny, len(image[0]), len(image)) and (nx, ny) not in visited and image[ny][nx] == '1':\n",
    "                visited.add((nx, ny))\n",
    "                queue.append((nx, ny))\n",
    "                pixels.append((nx, ny))\n",
    "    \n",
    "    return pixels\n",
    "\n",
    "def clear_dots(image, K):\n",
    "    X, Y = len(image[0]), len(image)\n",
    "    visited = set()\n",
    "    to_clear = set()\n",
    "    \n",
    "    for y in range(Y):\n",
    "        for x in range(X):\n",
    "            if image[y][x] == '1' and (x, y) not in visited:\n",
    "                pixels = bfs(image, x, y, visited)\n",
    "                if len(pixels) > 1:\n",
    "                    max_distance = 0\n",
    "                    for i in range(len(pixels)):\n",
    "                        for j in range(i + 1, len(pixels)):\n",
    "                            dist = ((pixels[i][0] - pixels[j][0]) ** 2 + (pixels[i][1] - pixels[j][1]) ** 2) ** 0.5\n",
    "                            max_distance = max(max_distance, dist)\n",
    "                    if max_distance <= K:\n",
    "                        to_clear.update(pixels)\n",
    "    \n",
    "    for (x, y) in to_clear:\n",
    "        image[y][x] = '0'\n",
    "    \n",
    "    return image\n",
    "\n",
    "def main():\n",
    "    X, Y, image, K = read_input()\n",
    "    cleared_image = clear_dots(image, K)\n",
    "    write_output(cleared_image)\n",
    "\n",
    "if __name__ == \"__main__\":\n",
    "    main()\n"
   ]
  },
  {
   "cell_type": "code",
   "execution_count": 5,
   "id": "3aec16df-d17b-467e-9358-8b97e9ebb614",
   "metadata": {},
   "outputs": [
    {
     "name": "stdin",
     "output_type": "stream",
     "text": [
      " 100\n"
     ]
    },
    {
     "ename": "ValueError",
     "evalue": "not enough values to unpack (expected 2, got 1)",
     "output_type": "error",
     "traceback": [
      "\u001b[1;31m---------------------------------------------------------------------------\u001b[0m",
      "\u001b[1;31mValueError\u001b[0m                                Traceback (most recent call last)",
      "Cell \u001b[1;32mIn[5], line 63\u001b[0m\n\u001b[0;32m     60\u001b[0m         \u001b[38;5;28mprint\u001b[39m(\u001b[38;5;124m'\u001b[39m\u001b[38;5;124m'\u001b[39m\u001b[38;5;241m.\u001b[39mjoin(row))\n\u001b[0;32m     62\u001b[0m \u001b[38;5;28;01mif\u001b[39;00m \u001b[38;5;18m__name__\u001b[39m \u001b[38;5;241m==\u001b[39m \u001b[38;5;124m\"\u001b[39m\u001b[38;5;124m__main__\u001b[39m\u001b[38;5;124m\"\u001b[39m:\n\u001b[1;32m---> 63\u001b[0m     \u001b[43mmain\u001b[49m\u001b[43m(\u001b[49m\u001b[43m)\u001b[49m\n",
      "Cell \u001b[1;32mIn[5], line 47\u001b[0m, in \u001b[0;36mmain\u001b[1;34m()\u001b[0m\n\u001b[0;32m     45\u001b[0m \u001b[38;5;28;01mdef\u001b[39;00m \u001b[38;5;21mmain\u001b[39m():\n\u001b[0;32m     46\u001b[0m     \u001b[38;5;66;03m# Tasvir o'lchamlari\u001b[39;00m\n\u001b[1;32m---> 47\u001b[0m     X, Y \u001b[38;5;241m=\u001b[39m \u001b[38;5;28mmap\u001b[39m(\u001b[38;5;28mint\u001b[39m, \u001b[38;5;28minput\u001b[39m()\u001b[38;5;241m.\u001b[39mstrip()\u001b[38;5;241m.\u001b[39msplit())\n\u001b[0;32m     49\u001b[0m     \u001b[38;5;66;03m# Tasvirni o'qish\u001b[39;00m\n\u001b[0;32m     50\u001b[0m     image \u001b[38;5;241m=\u001b[39m [\u001b[38;5;28mlist\u001b[39m(\u001b[38;5;28minput\u001b[39m()\u001b[38;5;241m.\u001b[39mstrip()) \u001b[38;5;28;01mfor\u001b[39;00m _ \u001b[38;5;129;01min\u001b[39;00m \u001b[38;5;28mrange\u001b[39m(Y)]\n",
      "\u001b[1;31mValueError\u001b[0m: not enough values to unpack (expected 2, got 1)"
     ]
    }
   ],
   "source": [
    "def is_within_bounds(x, y, X, Y):\n",
    "    return 0 <= x < X and 0 <= y < Y\n",
    "\n",
    "def bfs(image, start_x, start_y, visited):\n",
    "    queue = [(start_x, start_y)]\n",
    "    visited.add((start_x, start_y))\n",
    "    pixels = [(start_x, start_y)]\n",
    "    \n",
    "    directions = [(-1, 0), (1, 0), (0, -1), (0, 1)]\n",
    "    \n",
    "    while queue:\n",
    "        x, y = queue.pop(0)\n",
    "        for dx, dy in directions:\n",
    "            nx, ny = x + dx, y + dy\n",
    "            if is_within_bounds(nx, ny, len(image[0]), len(image)) and (nx, ny) not in visited and image[ny][nx] == '1':\n",
    "                visited.add((nx, ny))\n",
    "                queue.append((nx, ny))\n",
    "                pixels.append((nx, ny))\n",
    "    \n",
    "    return pixels\n",
    "\n",
    "def clear_dots(image, K):\n",
    "    X, Y = len(image[0]), len(image)\n",
    "    visited = set()\n",
    "    to_clear = set()\n",
    "    \n",
    "    for y in range(Y):\n",
    "        for x in range(X):\n",
    "            if image[y][x] == '1' and (x, y) not in visited:\n",
    "                pixels = bfs(image, x, y, visited)\n",
    "                if len(pixels) > 1:\n",
    "                    max_distance = 0\n",
    "                    for i in range(len(pixels)):\n",
    "                        for j in range(i + 1, len(pixels)):\n",
    "                            dist = ((pixels[i][0] - pixels[j][0]) ** 2 + (pixels[i][1] - pixels[j][1]) ** 2) ** 0.5\n",
    "                            max_distance = max(max_distance, dist)\n",
    "                    if max_distance <= K:\n",
    "                        to_clear.update(pixels)\n",
    "    \n",
    "    for (x, y) in to_clear:\n",
    "        image[y][x] = '0'\n",
    "    \n",
    "    return image\n",
    "\n",
    "def main():\n",
    "    # Tasvir o'lchamlari\n",
    "    X, Y = map(int, input().strip().split())\n",
    "    \n",
    "    # Tasvirni o'qish\n",
    "    image = [list(input().strip()) for _ in range(Y)]\n",
    "    \n",
    "    # K qiymatini o'qish\n",
    "    K = int(input().strip())\n",
    "    \n",
    "    # Dog'larni tozalash\n",
    "    cleared_image = clear_dots(image, K)\n",
    "    \n",
    "    # Natijani chiqarish\n",
    "    for row in cleared_image:\n",
    "        print(''.join(row))\n",
    "\n",
    "if __name__ == \"__main__\":\n",
    "    main()\n"
   ]
  },
  {
   "cell_type": "code",
   "execution_count": 4,
   "id": "4861cac2-5c4b-45f6-bcdf-fe14edc5d91b",
   "metadata": {},
   "outputs": [
    {
     "name": "stdin",
     "output_type": "stream",
     "text": [
      "n sonini kiriting:  8\n"
     ]
    },
    {
     "name": "stdout",
     "output_type": "stream",
     "text": [
      "-1\n"
     ]
    }
   ],
   "source": [
    "def find_mass_center(n):\n",
    "    total_sum = n * (n + 1) // 2\n",
    "    \n",
    "    for x in range(1, n + 1):\n",
    "        left_sum = x * (x + 1) // 2\n",
    "        right_sum = total_sum - left_sum + (x - 1) * x // 2\n",
    "        \n",
    "        if left_sum == right_sum:\n",
    "            return x\n",
    "            \n",
    "    return -1\n",
    "\n",
    "# Foydalanuvchidan n sonini qabul qilish\n",
    "n = int(input(\"n sonini kiriting: \"))\n",
    "result = find_mass_center(n)\n",
    "print(result)\n"
   ]
  },
  {
   "cell_type": "code",
   "execution_count": 7,
   "id": "620c923f-a069-4eb1-adac-bbb0e8c92012",
   "metadata": {},
   "outputs": [
    {
     "name": "stdin",
     "output_type": "stream",
     "text": [
      " 4\n"
     ]
    },
    {
     "name": "stdout",
     "output_type": "stream",
     "text": [
      "-1\n"
     ]
    }
   ],
   "source": [
    "def find_mass_center(n):\n",
    "    # 1 dan n gacha bo'lgan sonlar yig'indisini hisoblaymiz\n",
    "    total_sum = n * (n + 1) // 2\n",
    "    \n",
    "    left_sum = 0  # 1 dan x gacha bo'lgan sonlar yig'indisi\n",
    "    for x in range(1, n + 1):\n",
    "        left_sum += x\n",
    "        right_sum = total_sum - left_sum\n",
    "        \n",
    "        if left_sum == right_sum:\n",
    "            return x\n",
    "    \n",
    "    return -1\n",
    "\n",
    "# Kirish\n",
    "n = int(input())\n",
    "\n",
    "# Massa markazini topish\n",
    "result = find_mass_center(n)\n",
    "\n",
    "# Natija\n",
    "print(result)\n"
   ]
  },
  {
   "cell_type": "code",
   "execution_count": 11,
   "id": "7a476571-d380-44a1-8e0f-23845c66edb4",
   "metadata": {},
   "outputs": [
    {
     "name": "stdin",
     "output_type": "stream",
     "text": [
      " 8\n"
     ]
    },
    {
     "name": "stdout",
     "output_type": "stream",
     "text": [
      "8\n",
      "Total sum: 36\n",
      "left_sum: 1\n",
      "left_sum: 3\n",
      "left_sum: 6\n",
      "left_sum: 10\n",
      "left_sum: 15\n",
      "left_sum: 21\n",
      "6\n"
     ]
    }
   ],
   "source": [
    "def find_mass_center(n):\n",
    "    total_sum = n * (n + 1) // 2\n",
    "    print(f\"Total sum: {total_sum}\")\n",
    "    \n",
    "    for x in range(1, n + 1):\n",
    "        left_sum = x * (x + 1) // 2\n",
    "        print(f\"left_sum: {left_sum}\")\n",
    "        right_sum = total_sum - left_sum + x\n",
    "        \n",
    "        if left_sum == right_sum:\n",
    "            return x\n",
    "    \n",
    "    return -1\n",
    "\n",
    "# Kirish ma'lumotlarini olish\n",
    "n = int(input().strip())\n",
    "print(n)\n",
    "result = find_mass_center(n)\n",
    "print(result)\n"
   ]
  },
  {
   "cell_type": "code",
   "execution_count": null,
   "id": "9fca8fab-6400-4d96-8a22-6975fb87e08e",
   "metadata": {},
   "outputs": [],
   "source": []
  }
 ],
 "metadata": {
  "kernelspec": {
   "display_name": "Python 3 (ipykernel)",
   "language": "python",
   "name": "python3"
  },
  "language_info": {
   "codemirror_mode": {
    "name": "ipython",
    "version": 3
   },
   "file_extension": ".py",
   "mimetype": "text/x-python",
   "name": "python",
   "nbconvert_exporter": "python",
   "pygments_lexer": "ipython3",
   "version": "3.13.1"
  }
 },
 "nbformat": 4,
 "nbformat_minor": 5
}
